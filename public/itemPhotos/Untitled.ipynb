{
 "cells": [
  {
   "cell_type": "code",
   "execution_count": 1,
   "id": "5bbadfc7-cec4-437d-90ce-0af7356d9085",
   "metadata": {},
   "outputs": [],
   "source": [
    "import os\n",
    "import pandas as pd"
   ]
  },
  {
   "cell_type": "code",
   "execution_count": 9,
   "id": "73b0d098-1eb6-4a0b-8666-9415f73d6edd",
   "metadata": {},
   "outputs": [],
   "source": [
    "allPics = pd.Series(os.listdir())\n",
    "allPics = allPics[allPics.str.contains('.png')]\n",
    "allPics.apply(lambda x: '/Users/ginoparages/Desktop/gino-dev-fun/gino-for-fun/public/itemPhotos/' + x).to_csv(\"imagesPaths.csv\", index=False)"
   ]
  },
  {
   "cell_type": "code",
   "execution_count": 6,
   "id": "b7c52e27-7620-48ae-b5bf-dec918566153",
   "metadata": {},
   "outputs": [
    {
     "data": {
      "text/plain": [
       "'/Users/ginoparages/Desktop/gino-dev-fun/gino-for-fun/public/itemPhotos'"
      ]
     },
     "execution_count": 6,
     "metadata": {},
     "output_type": "execute_result"
    }
   ],
   "source": [
    "os.getcwd()"
   ]
  },
  {
   "cell_type": "code",
   "execution_count": null,
   "id": "8e011247-9d1d-402f-95a9-008969110c32",
   "metadata": {},
   "outputs": [],
   "source": []
  },
  {
   "cell_type": "code",
   "execution_count": null,
   "id": "93616966-fd9b-41bf-9835-d7ebd5096236",
   "metadata": {},
   "outputs": [],
   "source": []
  },
  {
   "cell_type": "code",
   "execution_count": null,
   "id": "ab15d06c-50f6-4708-86d8-950bc82526b1",
   "metadata": {},
   "outputs": [],
   "source": []
  },
  {
   "cell_type": "code",
   "execution_count": null,
   "id": "18b73156-24ff-4239-8522-f9cd97c385b4",
   "metadata": {},
   "outputs": [],
   "source": []
  },
  {
   "cell_type": "code",
   "execution_count": null,
   "id": "eafed045-903b-4ee2-9ef8-72bc575b5a6b",
   "metadata": {},
   "outputs": [],
   "source": []
  },
  {
   "cell_type": "code",
   "execution_count": null,
   "id": "4f71df4b-d48f-42fb-b8e3-0517522b75b1",
   "metadata": {},
   "outputs": [],
   "source": []
  }
 ],
 "metadata": {
  "kernelspec": {
   "display_name": "Python 3 (ipykernel)",
   "language": "python",
   "name": "python3"
  },
  "language_info": {
   "codemirror_mode": {
    "name": "ipython",
    "version": 3
   },
   "file_extension": ".py",
   "mimetype": "text/x-python",
   "name": "python",
   "nbconvert_exporter": "python",
   "pygments_lexer": "ipython3",
   "version": "3.9.7"
  }
 },
 "nbformat": 4,
 "nbformat_minor": 5
}
